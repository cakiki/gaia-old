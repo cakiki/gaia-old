{
 "cells": [
  {
   "cell_type": "code",
   "execution_count": 38,
   "id": "c2ef64fc-dbf4-41df-8f91-711923d34e72",
   "metadata": {
    "tags": []
   },
   "outputs": [],
   "source": [
    "import os\n",
    "\n",
    "from tqdm.notebook import tqdm\n",
    "\n",
    "from pyserini.pyclass import autoclass\n",
    "\n",
    "from datasets import load_dataset, Dataset\n",
    "from datasets.utils.py_utils import convert_file_size_to_int\n",
    "from transformers import PreTrainedTokenizerFast\n",
    "from tokenizers import (\n",
    "    normalizers,\n",
    "    pre_tokenizers,\n",
    "    decoders,\n",
    "    Tokenizer,\n",
    ")\n",
    "from tokenizers.models import BPE\n",
    "from tokenizers.trainers import BpeTrainer"
   ]
  },
  {
   "cell_type": "code",
   "execution_count": null,
   "id": "eab5c809-8eab-4f03-b67e-1fb181144249",
   "metadata": {},
   "outputs": [],
   "source": [
    "JIndexCollection = autoclass('io.anserini.index.IndexCollection')"
   ]
  },
  {
   "cell_type": "code",
   "execution_count": 31,
   "id": "5b597895-04cc-4667-a002-ad27d2363aa0",
   "metadata": {
    "tags": []
   },
   "outputs": [
    {
     "name": "stderr",
     "output_type": "stream",
     "text": [
      "Found cached dataset imdb (/mnt/1da05489-3812-4f15-a6e5-c8d3c57df39e/cache/huggingface/imdb/plain_text/1.0.0/d613c88cf8fa3bab83b4ded3713f1f74830d1100e171db75bbddb80b3345c9c0)\n"
     ]
    },
    {
     "data": {
      "text/plain": [
       "Dataset({\n",
       "    features: ['text', 'label'],\n",
       "    num_rows: 25000\n",
       "})"
      ]
     },
     "execution_count": 31,
     "metadata": {},
     "output_type": "execute_result"
    }
   ],
   "source": [
    "dset = load_dataset(\"imdb\", split=\"train\")\n",
    "dset"
   ]
  },
  {
   "cell_type": "code",
   "execution_count": 32,
   "id": "678d2478-abac-407f-81d2-b24ad5b78f1d",
   "metadata": {
    "tags": []
   },
   "outputs": [
    {
     "data": {
      "text/plain": [
       "Dataset({\n",
       "    features: ['text', 'label', 'id'],\n",
       "    num_rows: 25000\n",
       "})"
      ]
     },
     "execution_count": 32,
     "metadata": {},
     "output_type": "execute_result"
    }
   ],
   "source": [
    "dset = dset.add_column(\"id\", range(len(dset)))\n",
    "dset"
   ]
  },
  {
   "cell_type": "code",
   "execution_count": 33,
   "id": "49f3f331-fd03-447b-9809-b1ea82491571",
   "metadata": {
    "tags": []
   },
   "outputs": [
    {
     "data": {
      "text/plain": [
       "Dataset({\n",
       "    features: ['contents', 'label', 'id'],\n",
       "    num_rows: 25000\n",
       "})"
      ]
     },
     "execution_count": 33,
     "metadata": {},
     "output_type": "execute_result"
    }
   ],
   "source": [
    "dset = dset.rename_column(\"text\", \"contents\")\n",
    "dset"
   ]
  },
  {
   "cell_type": "code",
   "execution_count": 34,
   "id": "667cdfbf-ef97-45ed-9404-2b56c74253ff",
   "metadata": {
    "tags": []
   },
   "outputs": [
    {
     "data": {
      "text/plain": [
       "Dataset({\n",
       "    features: ['contents', 'id'],\n",
       "    num_rows: 25000\n",
       "})"
      ]
     },
     "execution_count": 34,
     "metadata": {},
     "output_type": "execute_result"
    }
   ],
   "source": [
    "dset = dset.select_columns([\"id\", \"contents\"])\n",
    "dset"
   ]
  },
  {
   "cell_type": "code",
   "execution_count": 35,
   "id": "da9603c7-8099-4f4a-b225-7dcda76fd6a4",
   "metadata": {
    "tags": []
   },
   "outputs": [
    {
     "name": "stdout",
     "output_type": "stream",
     "text": [
      "Sharding into 4 JSONL files.\n"
     ]
    },
    {
     "data": {
      "application/vnd.jupyter.widget-view+json": {
       "model_id": "435b160f1201434b8f0ad7e58eaf0b94",
       "version_major": 2,
       "version_minor": 0
      },
      "text/plain": [
       "  0%|          | 0/4 [00:00<?, ?it/s]"
      ]
     },
     "metadata": {},
     "output_type": "display_data"
    },
    {
     "data": {
      "application/vnd.jupyter.widget-view+json": {
       "model_id": "dea8f11bd0c74643802046d62689b4c6",
       "version_major": 2,
       "version_minor": 0
      },
      "text/plain": [
       "Creating json from Arrow format:   0%|          | 0/7 [00:00<?, ?ba/s]"
      ]
     },
     "metadata": {},
     "output_type": "display_data"
    },
    {
     "data": {
      "application/vnd.jupyter.widget-view+json": {
       "model_id": "8e818532e12f4b1a9c3660cdff93beba",
       "version_major": 2,
       "version_minor": 0
      },
      "text/plain": [
       "Creating json from Arrow format:   0%|          | 0/7 [00:00<?, ?ba/s]"
      ]
     },
     "metadata": {},
     "output_type": "display_data"
    },
    {
     "data": {
      "application/vnd.jupyter.widget-view+json": {
       "model_id": "0067b83fabc842f58eec6da45b5936c5",
       "version_major": 2,
       "version_minor": 0
      },
      "text/plain": [
       "Creating json from Arrow format:   0%|          | 0/7 [00:00<?, ?ba/s]"
      ]
     },
     "metadata": {},
     "output_type": "display_data"
    },
    {
     "data": {
      "application/vnd.jupyter.widget-view+json": {
       "model_id": "d6395725abfc4830854e26afeb48b701",
       "version_major": 2,
       "version_minor": 0
      },
      "text/plain": [
       "Creating json from Arrow format:   0%|          | 0/7 [00:00<?, ?ba/s]"
      ]
     },
     "metadata": {},
     "output_type": "display_data"
    }
   ],
   "source": [
    "shard_dir = f\"../shards/imdb\"\n",
    "max_shard_size = convert_file_size_to_int('10MB')\n",
    "dataset_nbytes = dset.data.nbytes\n",
    "num_shards = int(dataset_nbytes / max_shard_size) + 1\n",
    "num_shards = max(num_shards, 1)\n",
    "print(f\"Sharding into {num_shards} JSONL files.\")\n",
    "os.makedirs(shard_dir, exist_ok=True)\n",
    "for shard_index in tqdm(range(num_shards)):\n",
    "    shard = dset.shard(num_shards=num_shards, index=shard_index, contiguous=True)\n",
    "    shard.to_json(f\"{shard_dir}/docs-{shard_index:03d}.jsonl\", orient=\"records\", lines=True)"
   ]
  },
  {
   "cell_type": "code",
   "execution_count": 39,
   "id": "fda07700-4ef0-434f-8575-4c138cddd6f1",
   "metadata": {
    "tags": []
   },
   "outputs": [],
   "source": [
    "indexing_args = [\n",
    "    \"-input\", shard_dir,\n",
    "    \"-index\", \"../indexes/imdb\",\n",
    "    \"-collection\", \"JsonCollection\",\n",
    "    \"-threads\", \"28\",\n",
    "    \"-language\", \"en\",\n",
    "    \"-storePositions\",\"-storeDocvectors\",\"-storeContents\",\n",
    "]"
   ]
  },
  {
   "cell_type": "code",
   "execution_count": 40,
   "id": "2f5eea38-473c-4cea-bb37-0156c386a3f7",
   "metadata": {},
   "outputs": [
    {
     "name": "stdout",
     "output_type": "stream",
     "text": [
      "2023-02-22 21:17:10,852 INFO  [main] index.IndexCollection (IndexCollection.java:391) - Setting log level to INFO\n",
      "2023-02-22 21:17:10,852 INFO  [main] index.IndexCollection (IndexCollection.java:394) - Starting indexer...\n",
      "2023-02-22 21:17:10,852 INFO  [main] index.IndexCollection (IndexCollection.java:395) - ============ Loading Parameters ============\n",
      "2023-02-22 21:17:10,852 INFO  [main] index.IndexCollection (IndexCollection.java:396) - DocumentCollection path: ../shards/imdb\n",
      "2023-02-22 21:17:10,852 INFO  [main] index.IndexCollection (IndexCollection.java:397) - CollectionClass: JsonCollection\n",
      "2023-02-22 21:17:10,852 INFO  [main] index.IndexCollection (IndexCollection.java:398) - Generator: DefaultLuceneDocumentGenerator\n",
      "2023-02-22 21:17:10,852 INFO  [main] index.IndexCollection (IndexCollection.java:399) - Threads: 28\n",
      "2023-02-22 21:17:10,853 INFO  [main] index.IndexCollection (IndexCollection.java:400) - Language: en\n",
      "2023-02-22 21:17:10,853 INFO  [main] index.IndexCollection (IndexCollection.java:401) - Stemmer: porter\n",
      "2023-02-22 21:17:10,853 INFO  [main] index.IndexCollection (IndexCollection.java:402) - Keep stopwords? false\n",
      "2023-02-22 21:17:10,853 INFO  [main] index.IndexCollection (IndexCollection.java:403) - Stopwords: null\n",
      "2023-02-22 21:17:10,853 INFO  [main] index.IndexCollection (IndexCollection.java:404) - Store positions? true\n",
      "2023-02-22 21:17:10,853 INFO  [main] index.IndexCollection (IndexCollection.java:405) - Store docvectors? true\n",
      "2023-02-22 21:17:10,853 INFO  [main] index.IndexCollection (IndexCollection.java:406) - Store document \"contents\" field? true\n",
      "2023-02-22 21:17:10,853 INFO  [main] index.IndexCollection (IndexCollection.java:407) - Store document \"raw\" field? false\n",
      "2023-02-22 21:17:10,853 INFO  [main] index.IndexCollection (IndexCollection.java:408) - Additional fields to index: []\n",
      "2023-02-22 21:17:10,853 INFO  [main] index.IndexCollection (IndexCollection.java:409) - Optimize (merge segments)? false\n",
      "2023-02-22 21:17:10,854 INFO  [main] index.IndexCollection (IndexCollection.java:410) - Whitelist: null\n",
      "2023-02-22 21:17:10,854 INFO  [main] index.IndexCollection (IndexCollection.java:411) - Pretokenized?: false\n",
      "2023-02-22 21:17:10,854 INFO  [main] index.IndexCollection (IndexCollection.java:412) - Index path: ../indexes/imdb\n",
      "2023-02-22 21:17:10,854 INFO  [main] index.IndexCollection (IndexCollection.java:450) - ============ Indexing Collection ============\n",
      "2023-02-22 21:17:10,857 INFO  [main] index.IndexCollection (IndexCollection.java:565) - Thread pool with 28 threads initialized.\n",
      "2023-02-22 21:17:10,857 INFO  [main] index.IndexCollection (IndexCollection.java:567) - Initializing collection in ../shards/imdb\n",
      "2023-02-22 21:17:10,858 INFO  [main] index.IndexCollection (IndexCollection.java:576) - 4 files found\n",
      "2023-02-22 21:17:10,858 INFO  [main] index.IndexCollection (IndexCollection.java:577) - Starting to index...\n",
      "2023-02-22 21:17:12,258 DEBUG [pool-6-thread-2] index.IndexCollection$LocalIndexerThread (IndexCollection.java:356) - imdb/docs-000.jsonl: 6250 docs added.\n",
      "2023-02-22 21:17:12,279 DEBUG [pool-6-thread-3] index.IndexCollection$LocalIndexerThread (IndexCollection.java:356) - imdb/docs-001.jsonl: 6250 docs added.\n",
      "2023-02-22 21:17:12,297 DEBUG [pool-6-thread-4] index.IndexCollection$LocalIndexerThread (IndexCollection.java:356) - imdb/docs-003.jsonl: 6250 docs added.\n",
      "2023-02-22 21:17:12,310 DEBUG [pool-6-thread-1] index.IndexCollection$LocalIndexerThread (IndexCollection.java:356) - imdb/docs-002.jsonl: 6250 docs added.\n",
      "2023-02-22 21:17:13,296 INFO  [main] index.IndexCollection (IndexCollection.java:633) - Indexing Complete! 25,000 documents indexed\n",
      "2023-02-22 21:17:13,296 INFO  [main] index.IndexCollection (IndexCollection.java:634) - ============ Final Counter Values ============\n",
      "2023-02-22 21:17:13,296 INFO  [main] index.IndexCollection (IndexCollection.java:635) - indexed:           25,000\n",
      "2023-02-22 21:17:13,297 INFO  [main] index.IndexCollection (IndexCollection.java:636) - unindexable:            0\n",
      "2023-02-22 21:17:13,297 INFO  [main] index.IndexCollection (IndexCollection.java:637) - empty:                  0\n",
      "2023-02-22 21:17:13,297 INFO  [main] index.IndexCollection (IndexCollection.java:638) - skipped:                0\n",
      "2023-02-22 21:17:13,297 INFO  [main] index.IndexCollection (IndexCollection.java:639) - errors:                 0\n",
      "2023-02-22 21:17:13,297 INFO  [main] index.IndexCollection (IndexCollection.java:642) - Total 25,000 documents indexed in 00:00:02\n"
     ]
    }
   ],
   "source": [
    "JIndexCollection.main(indexing_args)"
   ]
  },
  {
   "cell_type": "code",
   "execution_count": 41,
   "id": "e7981468-d6b7-474d-a95b-6820624b4f67",
   "metadata": {
    "tags": []
   },
   "outputs": [
    {
     "data": {
      "text/plain": [
       "Dataset({\n",
       "    features: ['contents', 'id'],\n",
       "    num_rows: 25000\n",
       "})"
      ]
     },
     "execution_count": 41,
     "metadata": {},
     "output_type": "execute_result"
    }
   ],
   "source": [
    "dset"
   ]
  },
  {
   "cell_type": "code",
   "execution_count": 49,
   "id": "78296414-7c50-46ef-9c59-fd791901364f",
   "metadata": {
    "tags": []
   },
   "outputs": [],
   "source": [
    "def batch_iterator(dataset, text_column_name, batch_size): # Batch size has to be a multiple of the dataset size\n",
    "    for i in range(0, len(dataset), batch_size):\n",
    "        yield dataset.select(range(i, i + batch_size))[text_column_name]"
   ]
  },
  {
   "cell_type": "code",
   "execution_count": 44,
   "id": "854e03c5-f2e3-45d7-a2f3-3762b1c20f83",
   "metadata": {
    "tags": []
   },
   "outputs": [],
   "source": [
    "VOCAB_SIZE = 25_000\n",
    "\n",
    "unicode_normalizer = normalizers.NFKD()\n",
    "accent_stripper_normalizer = normalizers.StripAccents()\n",
    "\n",
    "bytelevel_pretokenizer = pre_tokenizers.ByteLevel(add_prefix_space=True, use_regex=True)\n",
    "\n",
    "bytelevel_decoder = decoders.ByteLevel(add_prefix_space=True, use_regex=True)\n",
    "\n",
    "tokenizer = Tokenizer(BPE())\n",
    "\n",
    "tokenizer.normalizer = normalizers.Sequence([unicode_normalizer, accent_stripper_normalizer])\n",
    "tokenizer.pre_tokenizer = bytelevel_pretokenizer\n",
    "tokenizer.decoder = bytelevel_decoder\n",
    "\n",
    "trainer = BpeTrainer(vocab_size=VOCAB_SIZE, show_progress=True)"
   ]
  },
  {
   "cell_type": "code",
   "execution_count": 50,
   "id": "ec4e5dd6-41d9-4d4a-94d3-bdd387a0b15a",
   "metadata": {
    "tags": []
   },
   "outputs": [
    {
     "name": "stdout",
     "output_type": "stream",
     "text": [
      "\n",
      "\n",
      "\n",
      "CPU times: user 50.2 s, sys: 8.88 s, total: 59.1 s\n",
      "Wall time: 3.38 s\n"
     ]
    }
   ],
   "source": [
    "%%time\n",
    "tokenizer.train_from_iterator(batch_iterator(dset, \"contents\", 100), trainer=trainer)"
   ]
  },
  {
   "cell_type": "code",
   "execution_count": 55,
   "id": "a760c8f8-9f91-4677-88a8-be867767d980",
   "metadata": {
    "tags": []
   },
   "outputs": [
    {
     "data": {
      "text/plain": [
       "CommitInfo(commit_url='https://huggingface.co/spacerini/bpe-imdb-25k/commit/47c190adc9e9d7e3664145a14281d3eb5dd0ffc4', commit_message='Upload tokenizer', commit_description='', oid='47c190adc9e9d7e3664145a14281d3eb5dd0ffc4', pr_url=None, pr_revision=None, pr_num=None)"
      ]
     },
     "execution_count": 55,
     "metadata": {},
     "output_type": "execute_result"
    }
   ],
   "source": [
    "tokenizer_model = PreTrainedTokenizerFast(tokenizer_object=tokenizer, vocab_size=VOCAB_SIZE) #Wrap the tokenizer into a transformers tokenizer object to get access to push_to_hub\n",
    "tokenizer_model.push_to_hub(\"spacerini/bpe-imdb-25k\")"
   ]
  },
  {
   "cell_type": "code",
   "execution_count": 56,
   "id": "1ea2f503-5759-4cfe-95a8-b61175e3b4ee",
   "metadata": {
    "tags": []
   },
   "outputs": [],
   "source": [
    "indexing_args = [\n",
    "    \"-input\", shard_dir,\n",
    "    \"-index\", \"../indexes/bpe-imdb-25k\",\n",
    "    \"-collection\", \"JsonCollection\",\n",
    "    \"-threads\", \"28\",\n",
    "    \"-analyzeWithHuggingFaceTokenizer\", \"spacerini/bpe-imdb-25k\",\n",
    "    \"-storePositions\",\"-storeDocvectors\",\"-storeContents\",\n",
    "]"
   ]
  },
  {
   "cell_type": "code",
   "execution_count": 57,
   "id": "27a5d382-1969-4da8-9aff-06301027ea34",
   "metadata": {
    "tags": []
   },
   "outputs": [
    {
     "name": "stdout",
     "output_type": "stream",
     "text": [
      "2023-02-22 21:30:15,415 INFO  [main] index.IndexCollection (IndexCollection.java:391) - Setting log level to INFO\n",
      "2023-02-22 21:30:15,415 INFO  [main] index.IndexCollection (IndexCollection.java:394) - Starting indexer...\n",
      "2023-02-22 21:30:15,415 INFO  [main] index.IndexCollection (IndexCollection.java:395) - ============ Loading Parameters ============\n",
      "2023-02-22 21:30:15,415 INFO  [main] index.IndexCollection (IndexCollection.java:396) - DocumentCollection path: ../shards/imdb\n",
      "2023-02-22 21:30:15,415 INFO  [main] index.IndexCollection (IndexCollection.java:397) - CollectionClass: JsonCollection\n",
      "2023-02-22 21:30:15,415 INFO  [main] index.IndexCollection (IndexCollection.java:398) - Generator: DefaultLuceneDocumentGenerator\n",
      "2023-02-22 21:30:15,415 INFO  [main] index.IndexCollection (IndexCollection.java:399) - Threads: 28\n",
      "2023-02-22 21:30:15,416 INFO  [main] index.IndexCollection (IndexCollection.java:400) - Language: en\n",
      "2023-02-22 21:30:15,416 INFO  [main] index.IndexCollection (IndexCollection.java:401) - Stemmer: porter\n",
      "2023-02-22 21:30:15,416 INFO  [main] index.IndexCollection (IndexCollection.java:402) - Keep stopwords? false\n",
      "2023-02-22 21:30:15,416 INFO  [main] index.IndexCollection (IndexCollection.java:403) - Stopwords: null\n",
      "2023-02-22 21:30:15,416 INFO  [main] index.IndexCollection (IndexCollection.java:404) - Store positions? true\n",
      "2023-02-22 21:30:15,416 INFO  [main] index.IndexCollection (IndexCollection.java:405) - Store docvectors? true\n",
      "2023-02-22 21:30:15,416 INFO  [main] index.IndexCollection (IndexCollection.java:406) - Store document \"contents\" field? true\n",
      "2023-02-22 21:30:15,416 INFO  [main] index.IndexCollection (IndexCollection.java:407) - Store document \"raw\" field? false\n",
      "2023-02-22 21:30:15,416 INFO  [main] index.IndexCollection (IndexCollection.java:408) - Additional fields to index: []\n",
      "2023-02-22 21:30:15,416 INFO  [main] index.IndexCollection (IndexCollection.java:409) - Optimize (merge segments)? false\n",
      "2023-02-22 21:30:15,417 INFO  [main] index.IndexCollection (IndexCollection.java:410) - Whitelist: null\n",
      "2023-02-22 21:30:15,417 INFO  [main] index.IndexCollection (IndexCollection.java:411) - Pretokenized?: false\n",
      "2023-02-22 21:30:15,417 INFO  [main] index.IndexCollection (IndexCollection.java:412) - Index path: ../indexes/bpe-imdb-25k\n",
      "2023-02-22 21:30:15,417 INFO  [main] index.IndexCollection (IndexCollection.java:450) - ============ Indexing Collection ============\n",
      "2023-02-22 21:30:16,865 INFO  [main] index.IndexCollection (IndexCollection.java:565) - Thread pool with 28 threads initialized.\n",
      "2023-02-22 21:30:16,865 INFO  [main] index.IndexCollection (IndexCollection.java:567) - Initializing collection in ../shards/imdb\n",
      "2023-02-22 21:30:16,865 INFO  [main] index.IndexCollection (IndexCollection.java:576) - 4 files found\n",
      "2023-02-22 21:30:16,865 INFO  [main] index.IndexCollection (IndexCollection.java:577) - Starting to index...\n",
      "2023-02-22 21:30:23,517 DEBUG [pool-7-thread-3] index.IndexCollection$LocalIndexerThread (IndexCollection.java:356) - imdb/docs-001.jsonl: 6250 docs added.\n",
      "2023-02-22 21:30:23,584 DEBUG [pool-7-thread-2] index.IndexCollection$LocalIndexerThread (IndexCollection.java:356) - imdb/docs-000.jsonl: 6250 docs added.\n",
      "2023-02-22 21:30:23,738 DEBUG [pool-7-thread-4] index.IndexCollection$LocalIndexerThread (IndexCollection.java:356) - imdb/docs-003.jsonl: 6250 docs added.\n",
      "2023-02-22 21:30:23,747 DEBUG [pool-7-thread-1] index.IndexCollection$LocalIndexerThread (IndexCollection.java:356) - imdb/docs-002.jsonl: 6250 docs added.\n",
      "2023-02-22 21:30:24,805 INFO  [main] index.IndexCollection (IndexCollection.java:633) - Indexing Complete! 25,000 documents indexed\n",
      "2023-02-22 21:30:24,805 INFO  [main] index.IndexCollection (IndexCollection.java:634) - ============ Final Counter Values ============\n",
      "2023-02-22 21:30:24,805 INFO  [main] index.IndexCollection (IndexCollection.java:635) - indexed:           25,000\n",
      "2023-02-22 21:30:24,805 INFO  [main] index.IndexCollection (IndexCollection.java:636) - unindexable:            0\n",
      "2023-02-22 21:30:24,805 INFO  [main] index.IndexCollection (IndexCollection.java:637) - empty:                  0\n",
      "2023-02-22 21:30:24,805 INFO  [main] index.IndexCollection (IndexCollection.java:638) - skipped:                0\n",
      "2023-02-22 21:30:24,805 INFO  [main] index.IndexCollection (IndexCollection.java:639) - errors:                 0\n",
      "2023-02-22 21:30:24,806 INFO  [main] index.IndexCollection (IndexCollection.java:642) - Total 25,000 documents indexed in 00:00:09\n"
     ]
    }
   ],
   "source": [
    "JIndexCollection.main(indexing_args)"
   ]
  }
 ],
 "metadata": {
  "kernelspec": {
   "display_name": "Python 3 (ipykernel)",
   "language": "python",
   "name": "python3"
  },
  "language_info": {
   "codemirror_mode": {
    "name": "ipython",
    "version": 3
   },
   "file_extension": ".py",
   "mimetype": "text/x-python",
   "name": "python",
   "nbconvert_exporter": "python",
   "pygments_lexer": "ipython3",
   "version": "3.9.5"
  }
 },
 "nbformat": 4,
 "nbformat_minor": 5
}
