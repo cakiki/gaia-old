{
 "cells": [
  {
   "cell_type": "code",
   "execution_count": 1,
   "id": "655aff1a-6867-402d-874a-7075b1dca997",
   "metadata": {
    "tags": []
   },
   "outputs": [],
   "source": [
    "from pyserini.index.lucene import IndexReader\n",
    "\n",
    "index_reader = IndexReader(\"../indexes/imdb\")\n",
    "hf_index_reader = IndexReader(\"../indexes/bpe-imdb-25k\")"
   ]
  },
  {
   "cell_type": "code",
   "execution_count": 2,
   "id": "d77c930e-4605-471c-8040-83409ac74361",
   "metadata": {
    "tags": []
   },
   "outputs": [
    {
     "data": {
      "text/plain": [
       "{'total_terms': 3994314,\n",
       " 'documents': 25000,\n",
       " 'non_empty_documents': 25000,\n",
       " 'unique_terms': -1}"
      ]
     },
     "execution_count": 2,
     "metadata": {},
     "output_type": "execute_result"
    }
   ],
   "source": [
    "index_reader.stats()"
   ]
  },
  {
   "cell_type": "code",
   "execution_count": 3,
   "id": "eb4c4391-26ec-4ab8-898d-17b9631a4161",
   "metadata": {
    "tags": []
   },
   "outputs": [
    {
     "data": {
      "text/plain": [
       "{'total_terms': 7427390,\n",
       " 'documents': 25000,\n",
       " 'non_empty_documents': 25000,\n",
       " 'unique_terms': -1}"
      ]
     },
     "execution_count": 3,
     "metadata": {},
     "output_type": "execute_result"
    }
   ],
   "source": [
    "hf_index_reader.stats()"
   ]
  },
  {
   "cell_type": "code",
   "execution_count": null,
   "id": "262ad948-e870-4bba-a45c-983111a4ebf7",
   "metadata": {},
   "outputs": [],
   "source": []
  }
 ],
 "metadata": {
  "kernelspec": {
   "display_name": "Python 3 (ipykernel)",
   "language": "python",
   "name": "python3"
  },
  "language_info": {
   "codemirror_mode": {
    "name": "ipython",
    "version": 3
   },
   "file_extension": ".py",
   "mimetype": "text/x-python",
   "name": "python",
   "nbconvert_exporter": "python",
   "pygments_lexer": "ipython3",
   "version": "3.9.5"
  }
 },
 "nbformat": 4,
 "nbformat_minor": 5
}
